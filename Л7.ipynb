{
  "nbformat": 4,
  "nbformat_minor": 0,
  "metadata": {
    "colab": {
      "provenance": []
    },
    "kernelspec": {
      "name": "python3",
      "display_name": "Python 3"
    },
    "language_info": {
      "name": "python"
    }
  },
  "cells": [
    {
      "cell_type": "markdown",
      "source": [
        "## Импорт библиотек и загрузка данных"
      ],
      "metadata": {
        "id": "5dw-FNDpIU5v"
      }
    },
    {
      "cell_type": "code",
      "source": [
        "import pandas as pd\n",
        "from sklearn.model_selection import train_test_split, GridSearchCV\n",
        "from sklearn.svm import SVC\n",
        "from sklearn.feature_selection import SelectKBest, f_classif\n",
        "from sklearn.metrics import accuracy_score, precision_score, recall_score, f1_score\n",
        "import matplotlib.pyplot as plt\n",
        "from sklearn.preprocessing import KBinsDiscretizer\n",
        "\n",
        "# Загрузка данных\n",
        "df = pd.read_csv(\"/content/Global_EV_2023_StrictFiltered.csv\")"
      ],
      "metadata": {
        "id": "UNrkFHhyIgPD"
      },
      "execution_count": 23,
      "outputs": []
    },
    {
      "cell_type": "markdown",
      "source": [
        "## Предобработка данных"
      ],
      "metadata": {
        "id": "LA7w78tCIjKK"
      }
    },
    {
      "cell_type": "code",
      "source": [
        "df['unit'] = df['unit'].map({'Vehicles': 1, 'percent': 0.01, 'charging points': 2, 'GWh': 3, 'Milion barrels per day': 4, 'Oil displacement, million lge': 5})\n",
        "df = pd.get_dummies(df, columns=['region', 'category', 'parameter', 'mode', 'powertrain'])\n",
        "\n",
        "discretizer = KBinsDiscretizer(n_bins=3, encode='ordinal', strategy='uniform')\n",
        "y = discretizer.fit_transform(df[['value']]).ravel()\n"
      ],
      "metadata": {
        "id": "bnb9xutFIp9-"
      },
      "execution_count": 24,
      "outputs": []
    },
    {
      "cell_type": "markdown",
      "source": [
        "## Разделение на обучающую и тестовую выборки"
      ],
      "metadata": {
        "id": "NPXxQTuTItt1"
      }
    },
    {
      "cell_type": "code",
      "source": [
        "y = y.astype(int)\n",
        "\n",
        "X = df.drop('value', axis=1)\n",
        "\n",
        "X_train, X_test, y_train, y_test = train_test_split(X, y, test_size=0.2, random_state=42)\n"
      ],
      "metadata": {
        "id": "npDGbBrUI8ln"
      },
      "execution_count": 26,
      "outputs": []
    },
    {
      "cell_type": "markdown",
      "source": [
        "## Создание модели SVC"
      ],
      "metadata": {
        "id": "VoZhxoSsJGmO"
      }
    },
    {
      "cell_type": "code",
      "source": [
        "# Определение гиперпараметров для GridSearchCV\n",
        "param_grid = {'C': [0.1, 1, 10, 100], 'gamma': [1, 0.1, 0.01, 0.001], 'kernel': ['rbf', 'linear']}\n",
        "\n",
        "# Создание модели SVM\n",
        "model = SVC()\n",
        "\n",
        "# Поиск лучших гиперпараметров с помощью GridSearchCV\n",
        "grid = GridSearchCV(model, param_grid, refit=True, verbose=3)\n",
        "grid.fit(X_train, y_train)\n",
        "\n",
        "# Вывод лучших гиперпараметров\n",
        "print(grid.best_params_)"
      ],
      "metadata": {
        "colab": {
          "base_uri": "https://localhost:8080/"
        },
        "id": "fKLttQMlJO3n",
        "outputId": "0ed4532e-ff1f-4457-8f27-178c0fec1a72"
      },
      "execution_count": 4,
      "outputs": [
        {
          "output_type": "stream",
          "name": "stdout",
          "text": [
            "Fitting 5 folds for each of 32 candidates, totalling 160 fits\n",
            "[CV 1/5] END ........C=0.1, gamma=1, kernel=rbf;, score=0.910 total time=   7.9s\n",
            "[CV 2/5] END ........C=0.1, gamma=1, kernel=rbf;, score=0.910 total time=   7.4s\n",
            "[CV 3/5] END ........C=0.1, gamma=1, kernel=rbf;, score=0.909 total time=   6.8s\n",
            "[CV 4/5] END ........C=0.1, gamma=1, kernel=rbf;, score=0.910 total time=   3.9s\n",
            "[CV 5/5] END ........C=0.1, gamma=1, kernel=rbf;, score=0.910 total time=   3.7s\n",
            "[CV 1/5] END .....C=0.1, gamma=1, kernel=linear;, score=0.910 total time=   0.8s\n",
            "[CV 2/5] END .....C=0.1, gamma=1, kernel=linear;, score=0.910 total time=   0.8s\n",
            "[CV 3/5] END .....C=0.1, gamma=1, kernel=linear;, score=0.909 total time=   0.5s\n",
            "[CV 4/5] END .....C=0.1, gamma=1, kernel=linear;, score=0.910 total time=   0.5s\n",
            "[CV 5/5] END .....C=0.1, gamma=1, kernel=linear;, score=0.910 total time=   0.5s\n",
            "[CV 1/5] END ......C=0.1, gamma=0.1, kernel=rbf;, score=0.910 total time=   0.6s\n",
            "[CV 2/5] END ......C=0.1, gamma=0.1, kernel=rbf;, score=0.910 total time=   0.6s\n",
            "[CV 3/5] END ......C=0.1, gamma=0.1, kernel=rbf;, score=0.909 total time=   0.6s\n",
            "[CV 4/5] END ......C=0.1, gamma=0.1, kernel=rbf;, score=0.910 total time=   0.6s\n",
            "[CV 5/5] END ......C=0.1, gamma=0.1, kernel=rbf;, score=0.910 total time=   0.6s\n",
            "[CV 1/5] END ...C=0.1, gamma=0.1, kernel=linear;, score=0.910 total time=   0.5s\n",
            "[CV 2/5] END ...C=0.1, gamma=0.1, kernel=linear;, score=0.910 total time=   0.5s\n",
            "[CV 3/5] END ...C=0.1, gamma=0.1, kernel=linear;, score=0.909 total time=   0.5s\n",
            "[CV 4/5] END ...C=0.1, gamma=0.1, kernel=linear;, score=0.910 total time=   0.5s\n",
            "[CV 5/5] END ...C=0.1, gamma=0.1, kernel=linear;, score=0.910 total time=   0.5s\n",
            "[CV 1/5] END .....C=0.1, gamma=0.01, kernel=rbf;, score=0.910 total time=   0.5s\n",
            "[CV 2/5] END .....C=0.1, gamma=0.01, kernel=rbf;, score=0.910 total time=   0.5s\n",
            "[CV 3/5] END .....C=0.1, gamma=0.01, kernel=rbf;, score=0.909 total time=   0.5s\n",
            "[CV 4/5] END .....C=0.1, gamma=0.01, kernel=rbf;, score=0.910 total time=   0.5s\n",
            "[CV 5/5] END .....C=0.1, gamma=0.01, kernel=rbf;, score=0.910 total time=   0.5s\n",
            "[CV 1/5] END ..C=0.1, gamma=0.01, kernel=linear;, score=0.910 total time=   0.4s\n",
            "[CV 2/5] END ..C=0.1, gamma=0.01, kernel=linear;, score=0.910 total time=   0.4s\n",
            "[CV 3/5] END ..C=0.1, gamma=0.01, kernel=linear;, score=0.909 total time=   0.7s\n",
            "[CV 4/5] END ..C=0.1, gamma=0.01, kernel=linear;, score=0.910 total time=   0.7s\n",
            "[CV 5/5] END ..C=0.1, gamma=0.01, kernel=linear;, score=0.910 total time=   0.7s\n",
            "[CV 1/5] END ....C=0.1, gamma=0.001, kernel=rbf;, score=0.910 total time=   0.6s\n",
            "[CV 2/5] END ....C=0.1, gamma=0.001, kernel=rbf;, score=0.910 total time=   0.6s\n",
            "[CV 3/5] END ....C=0.1, gamma=0.001, kernel=rbf;, score=0.909 total time=   0.5s\n",
            "[CV 4/5] END ....C=0.1, gamma=0.001, kernel=rbf;, score=0.910 total time=   0.4s\n",
            "[CV 5/5] END ....C=0.1, gamma=0.001, kernel=rbf;, score=0.910 total time=   0.4s\n",
            "[CV 1/5] END .C=0.1, gamma=0.001, kernel=linear;, score=0.910 total time=   0.4s\n",
            "[CV 2/5] END .C=0.1, gamma=0.001, kernel=linear;, score=0.910 total time=   0.4s\n",
            "[CV 3/5] END .C=0.1, gamma=0.001, kernel=linear;, score=0.909 total time=   0.5s\n",
            "[CV 4/5] END .C=0.1, gamma=0.001, kernel=linear;, score=0.910 total time=   0.5s\n",
            "[CV 5/5] END .C=0.1, gamma=0.001, kernel=linear;, score=0.910 total time=   0.5s\n",
            "[CV 1/5] END ..........C=1, gamma=1, kernel=rbf;, score=0.910 total time=   3.5s\n",
            "[CV 2/5] END ..........C=1, gamma=1, kernel=rbf;, score=0.911 total time=   3.5s\n",
            "[CV 3/5] END ..........C=1, gamma=1, kernel=rbf;, score=0.910 total time=   4.6s\n",
            "[CV 4/5] END ..........C=1, gamma=1, kernel=rbf;, score=0.910 total time=   3.5s\n",
            "[CV 5/5] END ..........C=1, gamma=1, kernel=rbf;, score=0.910 total time=   3.7s\n",
            "[CV 1/5] END .......C=1, gamma=1, kernel=linear;, score=0.910 total time=   0.5s\n",
            "[CV 2/5] END .......C=1, gamma=1, kernel=linear;, score=0.910 total time=   0.5s\n",
            "[CV 3/5] END .......C=1, gamma=1, kernel=linear;, score=0.909 total time=   0.5s\n",
            "[CV 4/5] END .......C=1, gamma=1, kernel=linear;, score=0.910 total time=   0.7s\n",
            "[CV 5/5] END .......C=1, gamma=1, kernel=linear;, score=0.910 total time=   0.9s\n",
            "[CV 1/5] END ........C=1, gamma=0.1, kernel=rbf;, score=0.910 total time=   0.9s\n",
            "[CV 2/5] END ........C=1, gamma=0.1, kernel=rbf;, score=0.910 total time=   1.0s\n",
            "[CV 3/5] END ........C=1, gamma=0.1, kernel=rbf;, score=0.909 total time=   0.8s\n",
            "[CV 4/5] END ........C=1, gamma=0.1, kernel=rbf;, score=0.910 total time=   0.6s\n",
            "[CV 5/5] END ........C=1, gamma=0.1, kernel=rbf;, score=0.910 total time=   0.6s\n",
            "[CV 1/5] END .....C=1, gamma=0.1, kernel=linear;, score=0.910 total time=   0.5s\n",
            "[CV 2/5] END .....C=1, gamma=0.1, kernel=linear;, score=0.910 total time=   0.5s\n",
            "[CV 3/5] END .....C=1, gamma=0.1, kernel=linear;, score=0.909 total time=   0.5s\n",
            "[CV 4/5] END .....C=1, gamma=0.1, kernel=linear;, score=0.910 total time=   0.6s\n",
            "[CV 5/5] END .....C=1, gamma=0.1, kernel=linear;, score=0.910 total time=   0.5s\n",
            "[CV 1/5] END .......C=1, gamma=0.01, kernel=rbf;, score=0.910 total time=   0.6s\n",
            "[CV 2/5] END .......C=1, gamma=0.01, kernel=rbf;, score=0.910 total time=   0.6s\n",
            "[CV 3/5] END .......C=1, gamma=0.01, kernel=rbf;, score=0.909 total time=   0.6s\n",
            "[CV 4/5] END .......C=1, gamma=0.01, kernel=rbf;, score=0.910 total time=   0.5s\n",
            "[CV 5/5] END .......C=1, gamma=0.01, kernel=rbf;, score=0.910 total time=   0.5s\n",
            "[CV 1/5] END ....C=1, gamma=0.01, kernel=linear;, score=0.910 total time=   0.5s\n",
            "[CV 2/5] END ....C=1, gamma=0.01, kernel=linear;, score=0.910 total time=   0.5s\n",
            "[CV 3/5] END ....C=1, gamma=0.01, kernel=linear;, score=0.909 total time=   0.5s\n",
            "[CV 4/5] END ....C=1, gamma=0.01, kernel=linear;, score=0.910 total time=   0.5s\n",
            "[CV 5/5] END ....C=1, gamma=0.01, kernel=linear;, score=0.910 total time=   0.5s\n",
            "[CV 1/5] END ......C=1, gamma=0.001, kernel=rbf;, score=0.910 total time=   0.5s\n",
            "[CV 2/5] END ......C=1, gamma=0.001, kernel=rbf;, score=0.910 total time=   0.7s\n",
            "[CV 3/5] END ......C=1, gamma=0.001, kernel=rbf;, score=0.909 total time=   0.7s\n",
            "[CV 4/5] END ......C=1, gamma=0.001, kernel=rbf;, score=0.910 total time=   0.7s\n",
            "[CV 5/5] END ......C=1, gamma=0.001, kernel=rbf;, score=0.910 total time=   0.7s\n",
            "[CV 1/5] END ...C=1, gamma=0.001, kernel=linear;, score=0.910 total time=   0.8s\n",
            "[CV 2/5] END ...C=1, gamma=0.001, kernel=linear;, score=0.910 total time=   0.5s\n",
            "[CV 3/5] END ...C=1, gamma=0.001, kernel=linear;, score=0.909 total time=   0.5s\n",
            "[CV 4/5] END ...C=1, gamma=0.001, kernel=linear;, score=0.910 total time=   0.5s\n",
            "[CV 5/5] END ...C=1, gamma=0.001, kernel=linear;, score=0.910 total time=   0.5s\n",
            "[CV 1/5] END .........C=10, gamma=1, kernel=rbf;, score=0.919 total time=   3.7s\n",
            "[CV 2/5] END .........C=10, gamma=1, kernel=rbf;, score=0.919 total time=   3.7s\n",
            "[CV 3/5] END .........C=10, gamma=1, kernel=rbf;, score=0.918 total time=   4.9s\n",
            "[CV 4/5] END .........C=10, gamma=1, kernel=rbf;, score=0.921 total time=   3.7s\n",
            "[CV 5/5] END .........C=10, gamma=1, kernel=rbf;, score=0.913 total time=   4.1s\n",
            "[CV 1/5] END ......C=10, gamma=1, kernel=linear;, score=0.910 total time=   0.8s\n",
            "[CV 2/5] END ......C=10, gamma=1, kernel=linear;, score=0.910 total time=   0.8s\n",
            "[CV 3/5] END ......C=10, gamma=1, kernel=linear;, score=0.909 total time=   1.3s\n",
            "[CV 4/5] END ......C=10, gamma=1, kernel=linear;, score=0.910 total time=   1.5s\n",
            "[CV 5/5] END ......C=10, gamma=1, kernel=linear;, score=0.910 total time=   1.2s\n",
            "[CV 1/5] END .......C=10, gamma=0.1, kernel=rbf;, score=0.922 total time=   1.1s\n",
            "[CV 2/5] END .......C=10, gamma=0.1, kernel=rbf;, score=0.934 total time=   1.0s\n",
            "[CV 3/5] END .......C=10, gamma=0.1, kernel=rbf;, score=0.930 total time=   0.6s\n",
            "[CV 4/5] END .......C=10, gamma=0.1, kernel=rbf;, score=0.923 total time=   0.6s\n",
            "[CV 5/5] END .......C=10, gamma=0.1, kernel=rbf;, score=0.918 total time=   0.6s\n",
            "[CV 1/5] END ....C=10, gamma=0.1, kernel=linear;, score=0.910 total time=   0.8s\n",
            "[CV 2/5] END ....C=10, gamma=0.1, kernel=linear;, score=0.910 total time=   0.8s\n",
            "[CV 3/5] END ....C=10, gamma=0.1, kernel=linear;, score=0.909 total time=   0.8s\n",
            "[CV 4/5] END ....C=10, gamma=0.1, kernel=linear;, score=0.910 total time=   0.9s\n",
            "[CV 5/5] END ....C=10, gamma=0.1, kernel=linear;, score=0.910 total time=   0.9s\n",
            "[CV 1/5] END ......C=10, gamma=0.01, kernel=rbf;, score=0.910 total time=   0.6s\n",
            "[CV 2/5] END ......C=10, gamma=0.01, kernel=rbf;, score=0.910 total time=   0.6s\n",
            "[CV 3/5] END ......C=10, gamma=0.01, kernel=rbf;, score=0.909 total time=   0.7s\n",
            "[CV 4/5] END ......C=10, gamma=0.01, kernel=rbf;, score=0.910 total time=   0.8s\n",
            "[CV 5/5] END ......C=10, gamma=0.01, kernel=rbf;, score=0.910 total time=   0.8s\n",
            "[CV 1/5] END ...C=10, gamma=0.01, kernel=linear;, score=0.910 total time=   1.3s\n",
            "[CV 2/5] END ...C=10, gamma=0.01, kernel=linear;, score=0.910 total time=   1.0s\n",
            "[CV 3/5] END ...C=10, gamma=0.01, kernel=linear;, score=0.909 total time=   0.8s\n",
            "[CV 4/5] END ...C=10, gamma=0.01, kernel=linear;, score=0.910 total time=   0.9s\n",
            "[CV 5/5] END ...C=10, gamma=0.01, kernel=linear;, score=0.910 total time=   0.9s\n",
            "[CV 1/5] END .....C=10, gamma=0.001, kernel=rbf;, score=0.910 total time=   0.6s\n",
            "[CV 2/5] END .....C=10, gamma=0.001, kernel=rbf;, score=0.910 total time=   0.6s\n",
            "[CV 3/5] END .....C=10, gamma=0.001, kernel=rbf;, score=0.909 total time=   0.6s\n",
            "[CV 4/5] END .....C=10, gamma=0.001, kernel=rbf;, score=0.910 total time=   0.5s\n",
            "[CV 5/5] END .....C=10, gamma=0.001, kernel=rbf;, score=0.910 total time=   0.6s\n",
            "[CV 1/5] END ..C=10, gamma=0.001, kernel=linear;, score=0.910 total time=   0.8s\n",
            "[CV 2/5] END ..C=10, gamma=0.001, kernel=linear;, score=0.910 total time=   0.8s\n",
            "[CV 3/5] END ..C=10, gamma=0.001, kernel=linear;, score=0.909 total time=   0.8s\n",
            "[CV 4/5] END ..C=10, gamma=0.001, kernel=linear;, score=0.910 total time=   0.9s\n",
            "[CV 5/5] END ..C=10, gamma=0.001, kernel=linear;, score=0.910 total time=   0.9s\n",
            "[CV 1/5] END ........C=100, gamma=1, kernel=rbf;, score=0.919 total time=   4.8s\n",
            "[CV 2/5] END ........C=100, gamma=1, kernel=rbf;, score=0.919 total time=   3.7s\n",
            "[CV 3/5] END ........C=100, gamma=1, kernel=rbf;, score=0.918 total time=   3.7s\n",
            "[CV 4/5] END ........C=100, gamma=1, kernel=rbf;, score=0.921 total time=   4.9s\n",
            "[CV 5/5] END ........C=100, gamma=1, kernel=rbf;, score=0.913 total time=   3.8s\n",
            "[CV 1/5] END .....C=100, gamma=1, kernel=linear;, score=0.910 total time=   2.4s\n",
            "[CV 2/5] END .....C=100, gamma=1, kernel=linear;, score=0.910 total time=   2.4s\n",
            "[CV 3/5] END .....C=100, gamma=1, kernel=linear;, score=0.909 total time=   2.8s\n",
            "[CV 4/5] END .....C=100, gamma=1, kernel=linear;, score=0.910 total time=   3.9s\n",
            "[CV 5/5] END .....C=100, gamma=1, kernel=linear;, score=0.910 total time=   3.0s\n",
            "[CV 1/5] END ......C=100, gamma=0.1, kernel=rbf;, score=0.925 total time=   0.6s\n",
            "[CV 2/5] END ......C=100, gamma=0.1, kernel=rbf;, score=0.927 total time=   0.7s\n",
            "[CV 3/5] END ......C=100, gamma=0.1, kernel=rbf;, score=0.939 total time=   0.7s\n",
            "[CV 4/5] END ......C=100, gamma=0.1, kernel=rbf;, score=0.925 total time=   0.6s\n",
            "[CV 5/5] END ......C=100, gamma=0.1, kernel=rbf;, score=0.923 total time=   0.6s\n",
            "[CV 1/5] END ...C=100, gamma=0.1, kernel=linear;, score=0.910 total time=   2.3s\n",
            "[CV 2/5] END ...C=100, gamma=0.1, kernel=linear;, score=0.910 total time=   4.1s\n",
            "[CV 3/5] END ...C=100, gamma=0.1, kernel=linear;, score=0.909 total time=   2.3s\n",
            "[CV 4/5] END ...C=100, gamma=0.1, kernel=linear;, score=0.910 total time=   2.8s\n",
            "[CV 5/5] END ...C=100, gamma=0.1, kernel=linear;, score=0.910 total time=   3.0s\n",
            "[CV 1/5] END .....C=100, gamma=0.01, kernel=rbf;, score=0.916 total time=   0.6s\n",
            "[CV 2/5] END .....C=100, gamma=0.01, kernel=rbf;, score=0.919 total time=   0.6s\n",
            "[CV 3/5] END .....C=100, gamma=0.01, kernel=rbf;, score=0.917 total time=   0.8s\n",
            "[CV 4/5] END .....C=100, gamma=0.01, kernel=rbf;, score=0.915 total time=   0.9s\n",
            "[CV 5/5] END .....C=100, gamma=0.01, kernel=rbf;, score=0.920 total time=   0.9s\n",
            "[CV 1/5] END ..C=100, gamma=0.01, kernel=linear;, score=0.910 total time=   3.0s\n",
            "[CV 2/5] END ..C=100, gamma=0.01, kernel=linear;, score=0.910 total time=   2.4s\n",
            "[CV 3/5] END ..C=100, gamma=0.01, kernel=linear;, score=0.909 total time=   2.3s\n",
            "[CV 4/5] END ..C=100, gamma=0.01, kernel=linear;, score=0.910 total time=   2.8s\n",
            "[CV 5/5] END ..C=100, gamma=0.01, kernel=linear;, score=0.910 total time=   4.7s\n",
            "[CV 1/5] END ....C=100, gamma=0.001, kernel=rbf;, score=0.910 total time=   0.6s\n",
            "[CV 2/5] END ....C=100, gamma=0.001, kernel=rbf;, score=0.910 total time=   0.6s\n",
            "[CV 3/5] END ....C=100, gamma=0.001, kernel=rbf;, score=0.909 total time=   0.6s\n",
            "[CV 4/5] END ....C=100, gamma=0.001, kernel=rbf;, score=0.910 total time=   0.6s\n",
            "[CV 5/5] END ....C=100, gamma=0.001, kernel=rbf;, score=0.910 total time=   0.6s\n",
            "[CV 1/5] END .C=100, gamma=0.001, kernel=linear;, score=0.910 total time=   2.3s\n",
            "[CV 2/5] END .C=100, gamma=0.001, kernel=linear;, score=0.910 total time=   2.5s\n",
            "[CV 3/5] END .C=100, gamma=0.001, kernel=linear;, score=0.909 total time=   2.7s\n",
            "[CV 4/5] END .C=100, gamma=0.001, kernel=linear;, score=0.910 total time=   4.1s\n",
            "[CV 5/5] END .C=100, gamma=0.001, kernel=linear;, score=0.910 total time=   3.0s\n",
            "{'C': 100, 'gamma': 0.1, 'kernel': 'rbf'}\n"
          ]
        }
      ]
    },
    {
      "cell_type": "markdown",
      "source": [
        "## Обучение модели"
      ],
      "metadata": {
        "id": "VPGse9E-JWSC"
      }
    },
    {
      "cell_type": "code",
      "source": [
        "# Обучение модели с лучшими гиперпараметрами\n",
        "best_model = SVC(**grid.best_params_)\n",
        "best_model.fit(X_train, y_train)\n",
        "\n",
        "# Предсказания на тестовой выборке\n",
        "y_pred = best_model.predict(X_test)\n",
        "\n",
        "# Оценка качества модели\n",
        "accuracy = accuracy_score(y_test, y_pred)\n",
        "precision = precision_score(y_test, y_pred, average='weighted')\n",
        "recall = recall_score(y_test, y_pred, average='weighted')\n",
        "f1 = f1_score(y_test, y_pred, average='weighted')\n",
        "\n",
        "print(f\"Accuracy: {accuracy:.4f}\")\n",
        "print(f\"Precision: {precision:.4f}\")\n",
        "print(f\"Recall: {recall:.4f}\")\n",
        "print(f\"F1-score: {f1:.4f}\")"
      ],
      "metadata": {
        "colab": {
          "base_uri": "https://localhost:8080/"
        },
        "id": "127BmupuJW6x",
        "outputId": "bf2a5d7a-3eec-4256-f221-ef45551c3bdc"
      },
      "execution_count": 5,
      "outputs": [
        {
          "output_type": "stream",
          "name": "stdout",
          "text": [
            "Accuracy: 0.9388\n",
            "Precision: 0.9350\n",
            "Recall: 0.9388\n",
            "F1-score: 0.9367\n"
          ]
        }
      ]
    },
    {
      "cell_type": "markdown",
      "source": [
        "## Обучение модели с выбором наилучших признаков"
      ],
      "metadata": {
        "id": "l6dl0j9vJhPH"
      }
    },
    {
      "cell_type": "code",
      "source": [
        "selector = SelectKBest(f_classif, k=10)\n",
        "X_train_selected = selector.fit_transform(X_train, y_train)\n",
        "X_test_selected = selector.transform(X_test)\n",
        "\n",
        "# Поиск лучших гиперпараметров для модели с выбранными признаками\n",
        "grid_selected = GridSearchCV(model, param_grid, refit=True, verbose=3)\n",
        "grid_selected.fit(X_train_selected, y_train)\n",
        "\n",
        "# Вывод лучших гиперпараметров для модели с выбранными признаками\n",
        "print(grid_selected.best_params_)"
      ],
      "metadata": {
        "colab": {
          "base_uri": "https://localhost:8080/"
        },
        "id": "I0OJxIb5JiB7",
        "outputId": "dbf32f10-6fee-470f-e8ed-5fefa578b7f5"
      },
      "execution_count": 6,
      "outputs": [
        {
          "output_type": "stream",
          "name": "stdout",
          "text": [
            "Fitting 5 folds for each of 32 candidates, totalling 160 fits\n",
            "[CV 1/5] END ........C=0.1, gamma=1, kernel=rbf;, score=0.910 total time=   0.2s\n",
            "[CV 2/5] END ........C=0.1, gamma=1, kernel=rbf;, score=0.910 total time=   0.2s\n",
            "[CV 3/5] END ........C=0.1, gamma=1, kernel=rbf;, score=0.909 total time=   0.2s\n",
            "[CV 4/5] END ........C=0.1, gamma=1, kernel=rbf;, score=0.910 total time=   0.2s\n",
            "[CV 5/5] END ........C=0.1, gamma=1, kernel=rbf;, score=0.910 total time=   0.2s\n",
            "[CV 1/5] END .....C=0.1, gamma=1, kernel=linear;, score=0.910 total time=   0.2s\n",
            "[CV 2/5] END .....C=0.1, gamma=1, kernel=linear;, score=0.910 total time=   0.1s\n",
            "[CV 3/5] END .....C=0.1, gamma=1, kernel=linear;, score=0.909 total time=   0.2s\n",
            "[CV 4/5] END .....C=0.1, gamma=1, kernel=linear;, score=0.910 total time=   0.2s\n",
            "[CV 5/5] END .....C=0.1, gamma=1, kernel=linear;, score=0.910 total time=   0.1s\n",
            "[CV 1/5] END ......C=0.1, gamma=0.1, kernel=rbf;, score=0.910 total time=   0.2s\n",
            "[CV 2/5] END ......C=0.1, gamma=0.1, kernel=rbf;, score=0.910 total time=   0.2s\n",
            "[CV 3/5] END ......C=0.1, gamma=0.1, kernel=rbf;, score=0.909 total time=   0.2s\n",
            "[CV 4/5] END ......C=0.1, gamma=0.1, kernel=rbf;, score=0.910 total time=   0.2s\n",
            "[CV 5/5] END ......C=0.1, gamma=0.1, kernel=rbf;, score=0.910 total time=   0.2s\n",
            "[CV 1/5] END ...C=0.1, gamma=0.1, kernel=linear;, score=0.910 total time=   0.1s\n",
            "[CV 2/5] END ...C=0.1, gamma=0.1, kernel=linear;, score=0.910 total time=   0.2s\n",
            "[CV 3/5] END ...C=0.1, gamma=0.1, kernel=linear;, score=0.909 total time=   0.2s\n",
            "[CV 4/5] END ...C=0.1, gamma=0.1, kernel=linear;, score=0.910 total time=   0.2s\n",
            "[CV 5/5] END ...C=0.1, gamma=0.1, kernel=linear;, score=0.910 total time=   0.2s\n",
            "[CV 1/5] END .....C=0.1, gamma=0.01, kernel=rbf;, score=0.910 total time=   0.2s\n",
            "[CV 2/5] END .....C=0.1, gamma=0.01, kernel=rbf;, score=0.910 total time=   0.3s\n",
            "[CV 3/5] END .....C=0.1, gamma=0.01, kernel=rbf;, score=0.909 total time=   0.4s\n",
            "[CV 4/5] END .....C=0.1, gamma=0.01, kernel=rbf;, score=0.910 total time=   0.3s\n",
            "[CV 5/5] END .....C=0.1, gamma=0.01, kernel=rbf;, score=0.910 total time=   0.4s\n",
            "[CV 1/5] END ..C=0.1, gamma=0.01, kernel=linear;, score=0.910 total time=   0.3s\n",
            "[CV 2/5] END ..C=0.1, gamma=0.01, kernel=linear;, score=0.910 total time=   0.3s\n",
            "[CV 3/5] END ..C=0.1, gamma=0.01, kernel=linear;, score=0.909 total time=   0.3s\n",
            "[CV 4/5] END ..C=0.1, gamma=0.01, kernel=linear;, score=0.910 total time=   0.3s\n",
            "[CV 5/5] END ..C=0.1, gamma=0.01, kernel=linear;, score=0.910 total time=   0.3s\n",
            "[CV 1/5] END ....C=0.1, gamma=0.001, kernel=rbf;, score=0.910 total time=   0.4s\n",
            "[CV 2/5] END ....C=0.1, gamma=0.001, kernel=rbf;, score=0.910 total time=   0.3s\n",
            "[CV 3/5] END ....C=0.1, gamma=0.001, kernel=rbf;, score=0.909 total time=   0.3s\n",
            "[CV 4/5] END ....C=0.1, gamma=0.001, kernel=rbf;, score=0.910 total time=   0.2s\n",
            "[CV 5/5] END ....C=0.1, gamma=0.001, kernel=rbf;, score=0.910 total time=   0.2s\n",
            "[CV 1/5] END .C=0.1, gamma=0.001, kernel=linear;, score=0.910 total time=   0.1s\n",
            "[CV 2/5] END .C=0.1, gamma=0.001, kernel=linear;, score=0.910 total time=   0.1s\n",
            "[CV 3/5] END .C=0.1, gamma=0.001, kernel=linear;, score=0.909 total time=   0.1s\n",
            "[CV 4/5] END .C=0.1, gamma=0.001, kernel=linear;, score=0.910 total time=   0.1s\n",
            "[CV 5/5] END .C=0.1, gamma=0.001, kernel=linear;, score=0.910 total time=   0.2s\n",
            "[CV 1/5] END ..........C=1, gamma=1, kernel=rbf;, score=0.910 total time=   0.2s\n",
            "[CV 2/5] END ..........C=1, gamma=1, kernel=rbf;, score=0.910 total time=   0.2s\n",
            "[CV 3/5] END ..........C=1, gamma=1, kernel=rbf;, score=0.909 total time=   0.2s\n",
            "[CV 4/5] END ..........C=1, gamma=1, kernel=rbf;, score=0.910 total time=   0.2s\n",
            "[CV 5/5] END ..........C=1, gamma=1, kernel=rbf;, score=0.910 total time=   0.2s\n",
            "[CV 1/5] END .......C=1, gamma=1, kernel=linear;, score=0.910 total time=   0.2s\n",
            "[CV 2/5] END .......C=1, gamma=1, kernel=linear;, score=0.910 total time=   0.2s\n",
            "[CV 3/5] END .......C=1, gamma=1, kernel=linear;, score=0.909 total time=   0.2s\n",
            "[CV 4/5] END .......C=1, gamma=1, kernel=linear;, score=0.910 total time=   0.2s\n",
            "[CV 5/5] END .......C=1, gamma=1, kernel=linear;, score=0.910 total time=   0.2s\n",
            "[CV 1/5] END ........C=1, gamma=0.1, kernel=rbf;, score=0.910 total time=   0.2s\n",
            "[CV 2/5] END ........C=1, gamma=0.1, kernel=rbf;, score=0.910 total time=   0.2s\n",
            "[CV 3/5] END ........C=1, gamma=0.1, kernel=rbf;, score=0.909 total time=   0.2s\n",
            "[CV 4/5] END ........C=1, gamma=0.1, kernel=rbf;, score=0.910 total time=   0.2s\n",
            "[CV 5/5] END ........C=1, gamma=0.1, kernel=rbf;, score=0.910 total time=   0.2s\n",
            "[CV 1/5] END .....C=1, gamma=0.1, kernel=linear;, score=0.910 total time=   0.2s\n",
            "[CV 2/5] END .....C=1, gamma=0.1, kernel=linear;, score=0.910 total time=   0.2s\n",
            "[CV 3/5] END .....C=1, gamma=0.1, kernel=linear;, score=0.909 total time=   0.2s\n",
            "[CV 4/5] END .....C=1, gamma=0.1, kernel=linear;, score=0.910 total time=   0.2s\n",
            "[CV 5/5] END .....C=1, gamma=0.1, kernel=linear;, score=0.910 total time=   0.2s\n",
            "[CV 1/5] END .......C=1, gamma=0.01, kernel=rbf;, score=0.910 total time=   0.2s\n",
            "[CV 2/5] END .......C=1, gamma=0.01, kernel=rbf;, score=0.910 total time=   0.2s\n",
            "[CV 3/5] END .......C=1, gamma=0.01, kernel=rbf;, score=0.909 total time=   0.2s\n",
            "[CV 4/5] END .......C=1, gamma=0.01, kernel=rbf;, score=0.910 total time=   0.2s\n",
            "[CV 5/5] END .......C=1, gamma=0.01, kernel=rbf;, score=0.910 total time=   0.2s\n",
            "[CV 1/5] END ....C=1, gamma=0.01, kernel=linear;, score=0.910 total time=   0.2s\n",
            "[CV 2/5] END ....C=1, gamma=0.01, kernel=linear;, score=0.910 total time=   0.2s\n",
            "[CV 3/5] END ....C=1, gamma=0.01, kernel=linear;, score=0.909 total time=   0.2s\n",
            "[CV 4/5] END ....C=1, gamma=0.01, kernel=linear;, score=0.910 total time=   0.2s\n",
            "[CV 5/5] END ....C=1, gamma=0.01, kernel=linear;, score=0.910 total time=   0.2s\n",
            "[CV 1/5] END ......C=1, gamma=0.001, kernel=rbf;, score=0.910 total time=   0.2s\n",
            "[CV 2/5] END ......C=1, gamma=0.001, kernel=rbf;, score=0.910 total time=   0.2s\n",
            "[CV 3/5] END ......C=1, gamma=0.001, kernel=rbf;, score=0.909 total time=   0.2s\n",
            "[CV 4/5] END ......C=1, gamma=0.001, kernel=rbf;, score=0.910 total time=   0.2s\n",
            "[CV 5/5] END ......C=1, gamma=0.001, kernel=rbf;, score=0.910 total time=   0.2s\n",
            "[CV 1/5] END ...C=1, gamma=0.001, kernel=linear;, score=0.910 total time=   0.2s\n",
            "[CV 2/5] END ...C=1, gamma=0.001, kernel=linear;, score=0.910 total time=   0.2s\n",
            "[CV 3/5] END ...C=1, gamma=0.001, kernel=linear;, score=0.909 total time=   0.2s\n",
            "[CV 4/5] END ...C=1, gamma=0.001, kernel=linear;, score=0.910 total time=   0.2s\n",
            "[CV 5/5] END ...C=1, gamma=0.001, kernel=linear;, score=0.910 total time=   0.2s\n",
            "[CV 1/5] END .........C=10, gamma=1, kernel=rbf;, score=0.910 total time=   0.2s\n",
            "[CV 2/5] END .........C=10, gamma=1, kernel=rbf;, score=0.910 total time=   0.2s\n",
            "[CV 3/5] END .........C=10, gamma=1, kernel=rbf;, score=0.909 total time=   0.2s\n",
            "[CV 4/5] END .........C=10, gamma=1, kernel=rbf;, score=0.910 total time=   0.2s\n",
            "[CV 5/5] END .........C=10, gamma=1, kernel=rbf;, score=0.910 total time=   0.2s\n",
            "[CV 1/5] END ......C=10, gamma=1, kernel=linear;, score=0.910 total time=   0.2s\n",
            "[CV 2/5] END ......C=10, gamma=1, kernel=linear;, score=0.910 total time=   0.2s\n",
            "[CV 3/5] END ......C=10, gamma=1, kernel=linear;, score=0.909 total time=   0.3s\n",
            "[CV 4/5] END ......C=10, gamma=1, kernel=linear;, score=0.910 total time=   0.3s\n",
            "[CV 5/5] END ......C=10, gamma=1, kernel=linear;, score=0.910 total time=   0.3s\n",
            "[CV 1/5] END .......C=10, gamma=0.1, kernel=rbf;, score=0.910 total time=   0.4s\n",
            "[CV 2/5] END .......C=10, gamma=0.1, kernel=rbf;, score=0.910 total time=   0.4s\n",
            "[CV 3/5] END .......C=10, gamma=0.1, kernel=rbf;, score=0.909 total time=   0.4s\n",
            "[CV 4/5] END .......C=10, gamma=0.1, kernel=rbf;, score=0.910 total time=   0.4s\n",
            "[CV 5/5] END .......C=10, gamma=0.1, kernel=rbf;, score=0.910 total time=   0.4s\n",
            "[CV 1/5] END ....C=10, gamma=0.1, kernel=linear;, score=0.910 total time=   0.3s\n",
            "[CV 2/5] END ....C=10, gamma=0.1, kernel=linear;, score=0.910 total time=   0.3s\n",
            "[CV 3/5] END ....C=10, gamma=0.1, kernel=linear;, score=0.909 total time=   0.3s\n",
            "[CV 4/5] END ....C=10, gamma=0.1, kernel=linear;, score=0.910 total time=   0.2s\n",
            "[CV 5/5] END ....C=10, gamma=0.1, kernel=linear;, score=0.910 total time=   0.2s\n",
            "[CV 1/5] END ......C=10, gamma=0.01, kernel=rbf;, score=0.910 total time=   0.2s\n",
            "[CV 2/5] END ......C=10, gamma=0.01, kernel=rbf;, score=0.910 total time=   0.2s\n",
            "[CV 3/5] END ......C=10, gamma=0.01, kernel=rbf;, score=0.909 total time=   0.2s\n",
            "[CV 4/5] END ......C=10, gamma=0.01, kernel=rbf;, score=0.910 total time=   0.2s\n",
            "[CV 5/5] END ......C=10, gamma=0.01, kernel=rbf;, score=0.910 total time=   0.2s\n",
            "[CV 1/5] END ...C=10, gamma=0.01, kernel=linear;, score=0.910 total time=   0.2s\n",
            "[CV 2/5] END ...C=10, gamma=0.01, kernel=linear;, score=0.910 total time=   0.2s\n",
            "[CV 3/5] END ...C=10, gamma=0.01, kernel=linear;, score=0.909 total time=   0.1s\n",
            "[CV 4/5] END ...C=10, gamma=0.01, kernel=linear;, score=0.910 total time=   0.2s\n",
            "[CV 5/5] END ...C=10, gamma=0.01, kernel=linear;, score=0.910 total time=   0.2s\n",
            "[CV 1/5] END .....C=10, gamma=0.001, kernel=rbf;, score=0.910 total time=   0.2s\n",
            "[CV 2/5] END .....C=10, gamma=0.001, kernel=rbf;, score=0.910 total time=   0.2s\n",
            "[CV 3/5] END .....C=10, gamma=0.001, kernel=rbf;, score=0.909 total time=   0.2s\n",
            "[CV 4/5] END .....C=10, gamma=0.001, kernel=rbf;, score=0.910 total time=   0.2s\n",
            "[CV 5/5] END .....C=10, gamma=0.001, kernel=rbf;, score=0.910 total time=   0.2s\n",
            "[CV 1/5] END ..C=10, gamma=0.001, kernel=linear;, score=0.910 total time=   0.2s\n",
            "[CV 2/5] END ..C=10, gamma=0.001, kernel=linear;, score=0.910 total time=   0.2s\n",
            "[CV 3/5] END ..C=10, gamma=0.001, kernel=linear;, score=0.909 total time=   0.2s\n",
            "[CV 4/5] END ..C=10, gamma=0.001, kernel=linear;, score=0.910 total time=   0.2s\n",
            "[CV 5/5] END ..C=10, gamma=0.001, kernel=linear;, score=0.910 total time=   0.2s\n",
            "[CV 1/5] END ........C=100, gamma=1, kernel=rbf;, score=0.910 total time=   0.2s\n",
            "[CV 2/5] END ........C=100, gamma=1, kernel=rbf;, score=0.910 total time=   0.2s\n",
            "[CV 3/5] END ........C=100, gamma=1, kernel=rbf;, score=0.909 total time=   0.2s\n",
            "[CV 4/5] END ........C=100, gamma=1, kernel=rbf;, score=0.910 total time=   0.2s\n",
            "[CV 5/5] END ........C=100, gamma=1, kernel=rbf;, score=0.910 total time=   0.2s\n",
            "[CV 1/5] END .....C=100, gamma=1, kernel=linear;, score=0.910 total time=   0.2s\n",
            "[CV 2/5] END .....C=100, gamma=1, kernel=linear;, score=0.910 total time=   0.2s\n",
            "[CV 3/5] END .....C=100, gamma=1, kernel=linear;, score=0.909 total time=   0.2s\n",
            "[CV 4/5] END .....C=100, gamma=1, kernel=linear;, score=0.910 total time=   0.2s\n",
            "[CV 5/5] END .....C=100, gamma=1, kernel=linear;, score=0.910 total time=   0.2s\n",
            "[CV 1/5] END ......C=100, gamma=0.1, kernel=rbf;, score=0.910 total time=   0.2s\n",
            "[CV 2/5] END ......C=100, gamma=0.1, kernel=rbf;, score=0.910 total time=   0.2s\n",
            "[CV 3/5] END ......C=100, gamma=0.1, kernel=rbf;, score=0.909 total time=   0.2s\n",
            "[CV 4/5] END ......C=100, gamma=0.1, kernel=rbf;, score=0.910 total time=   0.2s\n",
            "[CV 5/5] END ......C=100, gamma=0.1, kernel=rbf;, score=0.910 total time=   0.2s\n",
            "[CV 1/5] END ...C=100, gamma=0.1, kernel=linear;, score=0.910 total time=   0.2s\n",
            "[CV 2/5] END ...C=100, gamma=0.1, kernel=linear;, score=0.910 total time=   0.2s\n",
            "[CV 3/5] END ...C=100, gamma=0.1, kernel=linear;, score=0.909 total time=   0.2s\n",
            "[CV 4/5] END ...C=100, gamma=0.1, kernel=linear;, score=0.910 total time=   0.2s\n",
            "[CV 5/5] END ...C=100, gamma=0.1, kernel=linear;, score=0.910 total time=   0.2s\n",
            "[CV 1/5] END .....C=100, gamma=0.01, kernel=rbf;, score=0.910 total time=   0.2s\n",
            "[CV 2/5] END .....C=100, gamma=0.01, kernel=rbf;, score=0.910 total time=   0.2s\n",
            "[CV 3/5] END .....C=100, gamma=0.01, kernel=rbf;, score=0.909 total time=   0.2s\n",
            "[CV 4/5] END .....C=100, gamma=0.01, kernel=rbf;, score=0.910 total time=   0.2s\n",
            "[CV 5/5] END .....C=100, gamma=0.01, kernel=rbf;, score=0.910 total time=   0.2s\n",
            "[CV 1/5] END ..C=100, gamma=0.01, kernel=linear;, score=0.910 total time=   0.2s\n",
            "[CV 2/5] END ..C=100, gamma=0.01, kernel=linear;, score=0.910 total time=   0.2s\n",
            "[CV 3/5] END ..C=100, gamma=0.01, kernel=linear;, score=0.909 total time=   0.2s\n",
            "[CV 4/5] END ..C=100, gamma=0.01, kernel=linear;, score=0.910 total time=   0.2s\n",
            "[CV 5/5] END ..C=100, gamma=0.01, kernel=linear;, score=0.910 total time=   0.2s\n",
            "[CV 1/5] END ....C=100, gamma=0.001, kernel=rbf;, score=0.910 total time=   0.2s\n",
            "[CV 2/5] END ....C=100, gamma=0.001, kernel=rbf;, score=0.910 total time=   0.3s\n",
            "[CV 3/5] END ....C=100, gamma=0.001, kernel=rbf;, score=0.909 total time=   0.4s\n",
            "[CV 4/5] END ....C=100, gamma=0.001, kernel=rbf;, score=0.910 total time=   0.4s\n",
            "[CV 5/5] END ....C=100, gamma=0.001, kernel=rbf;, score=0.910 total time=   0.4s\n",
            "[CV 1/5] END .C=100, gamma=0.001, kernel=linear;, score=0.910 total time=   0.3s\n",
            "[CV 2/5] END .C=100, gamma=0.001, kernel=linear;, score=0.910 total time=   0.3s\n",
            "[CV 3/5] END .C=100, gamma=0.001, kernel=linear;, score=0.909 total time=   0.3s\n",
            "[CV 4/5] END .C=100, gamma=0.001, kernel=linear;, score=0.910 total time=   0.3s\n",
            "[CV 5/5] END .C=100, gamma=0.001, kernel=linear;, score=0.910 total time=   0.3s\n",
            "{'C': 0.1, 'gamma': 1, 'kernel': 'rbf'}\n"
          ]
        }
      ]
    },
    {
      "cell_type": "markdown",
      "source": [
        "## Обучение модели с лучшими гиперпараметрами и выбранными признаками"
      ],
      "metadata": {
        "id": "BX1FsIaCJ00L"
      }
    },
    {
      "cell_type": "code",
      "source": [
        "best_model_selected = SVC(**grid_selected.best_params_)\n",
        "best_model_selected.fit(X_train_selected, y_train)\n",
        "\n",
        "# Предсказания на тестовой выборке\n",
        "y_pred_selected = best_model_selected.predict(X_test_selected)\n",
        "\n",
        "# Оценка качества модели с выбранными признаками\n",
        "accuracy_selected = accuracy_score(y_test, y_pred_selected)\n",
        "precision_selected = precision_score(y_test, y_pred_selected, average='weighted')\n",
        "recall_selected = recall_score(y_test, y_pred_selected, average='weighted')\n",
        "f1_selected = f1_score(y_test, y_pred_selected, average='weighted')\n",
        "\n",
        "print(f\"Accuracy (selected features): {accuracy_selected:.4f}\")\n",
        "print(f\"Precision (selected features): {precision_selected:.4f}\")\n",
        "print(f\"Recall (selected features): {recall_selected:.4f}\")\n",
        "print(f\"F1-score (selected features): {f1_selected:.4f}\")"
      ],
      "metadata": {
        "colab": {
          "base_uri": "https://localhost:8080/"
        },
        "id": "pp5fJRJYJ1Vu",
        "outputId": "6de849a6-af17-430a-e9e6-8f1bf1ca9763"
      },
      "execution_count": 7,
      "outputs": [
        {
          "output_type": "stream",
          "name": "stdout",
          "text": [
            "Accuracy (selected features): 0.9115\n",
            "Precision (selected features): 0.8309\n",
            "Recall (selected features): 0.9115\n",
            "F1-score (selected features): 0.8693\n"
          ]
        },
        {
          "output_type": "stream",
          "name": "stderr",
          "text": [
            "/usr/local/lib/python3.10/dist-packages/sklearn/metrics/_classification.py:1344: UndefinedMetricWarning: Precision is ill-defined and being set to 0.0 in labels with no predicted samples. Use `zero_division` parameter to control this behavior.\n",
            "  _warn_prf(average, modifier, msg_start, len(result))\n"
          ]
        }
      ]
    },
    {
      "cell_type": "markdown",
      "source": [
        "## Визуализация метрик качества"
      ],
      "metadata": {
        "id": "4-_oLjMGKBwE"
      }
    },
    {
      "cell_type": "code",
      "source": [
        "metrics = ['Accuracy', 'Precision', 'Recall', 'F1-score']\n",
        "values = [accuracy, precision, recall, f1]\n",
        "values_selected = [accuracy_selected, precision_selected, recall_selected, f1_selected]\n",
        "\n",
        "plt.bar(metrics, values, label='All features')\n",
        "plt.bar(metrics, values_selected, label='Selected features')\n",
        "plt.ylim([0, 1])\n",
        "plt.ylabel('Score')\n",
        "plt.title('Model performance')\n",
        "plt.legend()\n",
        "plt.show()"
      ],
      "metadata": {
        "colab": {
          "base_uri": "https://localhost:8080/",
          "height": 452
        },
        "id": "A7VFGuHdKCM5",
        "outputId": "ecac05fb-51af-47de-ee18-d6efdb34617f"
      },
      "execution_count": 8,
      "outputs": [
        {
          "output_type": "display_data",
          "data": {
            "text/plain": [
              "<Figure size 640x480 with 1 Axes>"
            ],
            "image/png": "[encoded data removed]"
          },
          "metadata": {}
        }
      ]
    }
  ]
}